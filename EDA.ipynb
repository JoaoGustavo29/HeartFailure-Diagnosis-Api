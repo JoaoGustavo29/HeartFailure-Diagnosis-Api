{
 "cells": [
  {
   "cell_type": "markdown",
   "id": "526d71fe",
   "metadata": {},
   "source": [
    "# Heart Failure Diagnosis"
   ]
  },
  {
   "cell_type": "markdown",
   "id": "24cfbe8e",
   "metadata": {},
   "source": []
  }
 ],
 "metadata": {
  "language_info": {
   "name": "python"
  }
 },
 "nbformat": 4,
 "nbformat_minor": 5
}
